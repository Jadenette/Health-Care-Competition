{
 "cells": [
  {
   "cell_type": "code",
   "execution_count": 1,
   "metadata": {},
   "outputs": [],
   "source": [
    "import pandas as pd\n",
    "import numpy as np"
   ]
  },
  {
   "cell_type": "code",
   "execution_count": 2,
   "metadata": {},
   "outputs": [],
   "source": [
    "from sklearn.tree import DecisionTreeClassifier"
   ]
  },
  {
   "cell_type": "code",
   "execution_count": 3,
   "metadata": {},
   "outputs": [],
   "source": [
    "# import the file\n",
    "data = pd.read_csv('filled_training_data.csv')"
   ]
  },
  {
   "cell_type": "code",
   "execution_count": 4,
   "metadata": {},
   "outputs": [
    {
     "data": {
      "text/plain": "(91580, 113)"
     },
     "execution_count": 4,
     "metadata": {},
     "output_type": "execute_result"
    }
   ],
   "source": [
    "data.shape"
   ]
  },
  {
   "cell_type": "code",
   "execution_count": 5,
   "metadata": {},
   "outputs": [
    {
     "data": {
      "text/html": "<div>\n<style scoped>\n    .dataframe tbody tr th:only-of-type {\n        vertical-align: middle;\n    }\n\n    .dataframe tbody tr th {\n        vertical-align: top;\n    }\n\n    .dataframe thead th {\n        text-align: right;\n    }\n</style>\n<table border=\"1\" class=\"dataframe\">\n  <thead>\n    <tr style=\"text-align: right;\">\n      <th></th>\n      <th>encounter_id</th>\n      <th>hospital_id</th>\n      <th>hospital_death</th>\n      <th>age</th>\n      <th>bmi</th>\n      <th>elective_surgery</th>\n      <th>ethnicity</th>\n      <th>gender</th>\n      <th>height</th>\n      <th>hospital_admit_source</th>\n      <th>...</th>\n      <th>aids</th>\n      <th>cirrhosis</th>\n      <th>diabetes_mellitus</th>\n      <th>hepatic_failure</th>\n      <th>immunosuppression</th>\n      <th>leukemia</th>\n      <th>lymphoma</th>\n      <th>solid_tumor_with_metastasis</th>\n      <th>apache_3j_bodysystem</th>\n      <th>apache_2_bodysystem</th>\n    </tr>\n  </thead>\n  <tbody>\n    <tr>\n      <th>0</th>\n      <td>66154</td>\n      <td>118</td>\n      <td>0</td>\n      <td>68.0</td>\n      <td>22.73</td>\n      <td>0</td>\n      <td>Caucasian</td>\n      <td>M</td>\n      <td>180.3</td>\n      <td>Floor</td>\n      <td>...</td>\n      <td>0</td>\n      <td>0</td>\n      <td>1</td>\n      <td>0</td>\n      <td>0</td>\n      <td>0</td>\n      <td>0</td>\n      <td>0</td>\n      <td>Sepsis</td>\n      <td>Cardiovascular</td>\n    </tr>\n    <tr>\n      <th>1</th>\n      <td>114252</td>\n      <td>81</td>\n      <td>0</td>\n      <td>77.0</td>\n      <td>27.42</td>\n      <td>0</td>\n      <td>Caucasian</td>\n      <td>F</td>\n      <td>160.0</td>\n      <td>Floor</td>\n      <td>...</td>\n      <td>0</td>\n      <td>0</td>\n      <td>1</td>\n      <td>0</td>\n      <td>0</td>\n      <td>0</td>\n      <td>0</td>\n      <td>0</td>\n      <td>Respiratory</td>\n      <td>Respiratory</td>\n    </tr>\n    <tr>\n      <th>2</th>\n      <td>119783</td>\n      <td>118</td>\n      <td>0</td>\n      <td>25.0</td>\n      <td>31.95</td>\n      <td>0</td>\n      <td>Caucasian</td>\n      <td>F</td>\n      <td>172.7</td>\n      <td>Emergency Department</td>\n      <td>...</td>\n      <td>0</td>\n      <td>0</td>\n      <td>0</td>\n      <td>0</td>\n      <td>0</td>\n      <td>0</td>\n      <td>0</td>\n      <td>0</td>\n      <td>Metabolic</td>\n      <td>Metabolic</td>\n    </tr>\n    <tr>\n      <th>3</th>\n      <td>79267</td>\n      <td>118</td>\n      <td>0</td>\n      <td>81.0</td>\n      <td>22.64</td>\n      <td>1</td>\n      <td>Caucasian</td>\n      <td>F</td>\n      <td>165.1</td>\n      <td>Operating Room</td>\n      <td>...</td>\n      <td>0</td>\n      <td>0</td>\n      <td>0</td>\n      <td>0</td>\n      <td>0</td>\n      <td>0</td>\n      <td>0</td>\n      <td>0</td>\n      <td>Cardiovascular</td>\n      <td>Cardiovascular</td>\n    </tr>\n    <tr>\n      <th>4</th>\n      <td>92056</td>\n      <td>33</td>\n      <td>0</td>\n      <td>19.0</td>\n      <td>28.52</td>\n      <td>0</td>\n      <td>Caucasian</td>\n      <td>M</td>\n      <td>188.0</td>\n      <td>Floor</td>\n      <td>...</td>\n      <td>0</td>\n      <td>0</td>\n      <td>0</td>\n      <td>0</td>\n      <td>0</td>\n      <td>0</td>\n      <td>0</td>\n      <td>0</td>\n      <td>Trauma</td>\n      <td>Trauma</td>\n    </tr>\n  </tbody>\n</table>\n<p>5 rows × 113 columns</p>\n</div>",
      "text/plain": "   encounter_id  hospital_id  hospital_death   age    bmi  elective_surgery  \\\n0         66154          118               0  68.0  22.73                 0   \n1        114252           81               0  77.0  27.42                 0   \n2        119783          118               0  25.0  31.95                 0   \n3         79267          118               0  81.0  22.64                 1   \n4         92056           33               0  19.0  28.52                 0   \n\n   ethnicity gender  height hospital_admit_source  ... aids cirrhosis  \\\n0  Caucasian      M   180.3                 Floor  ...    0         0   \n1  Caucasian      F   160.0                 Floor  ...    0         0   \n2  Caucasian      F   172.7  Emergency Department  ...    0         0   \n3  Caucasian      F   165.1        Operating Room  ...    0         0   \n4  Caucasian      M   188.0                 Floor  ...    0         0   \n\n  diabetes_mellitus  hepatic_failure  immunosuppression  leukemia  lymphoma  \\\n0                 1                0                  0         0         0   \n1                 1                0                  0         0         0   \n2                 0                0                  0         0         0   \n3                 0                0                  0         0         0   \n4                 0                0                  0         0         0   \n\n   solid_tumor_with_metastasis  apache_3j_bodysystem  apache_2_bodysystem  \n0                            0                Sepsis       Cardiovascular  \n1                            0           Respiratory          Respiratory  \n2                            0             Metabolic            Metabolic  \n3                            0        Cardiovascular       Cardiovascular  \n4                            0                Trauma               Trauma  \n\n[5 rows x 113 columns]"
     },
     "execution_count": 5,
     "metadata": {},
     "output_type": "execute_result"
    }
   ],
   "source": [
    "data.head()"
   ]
  },
  {
   "cell_type": "code",
   "execution_count": 6,
   "metadata": {},
   "outputs": [],
   "source": [
    "# change the categorical variables \n",
    "from sklearn import preprocessing\n",
    "encoder = preprocessing.LabelEncoder()"
   ]
  },
  {
   "cell_type": "code",
   "execution_count": 7,
   "metadata": {},
   "outputs": [],
   "source": [
    "data['ethnicity'] = encoder.fit_transform(data['ethnicity'])\n",
    "data['gender'] = encoder.fit_transform(data['gender'])\n",
    "data['hospital_admit_source'] = encoder.fit_transform(data['hospital_admit_source'])\n",
    "data['icu_admit_source'] = encoder.fit_transform(data['icu_admit_source'])\n",
    "data['icu_stay_type'] = encoder.fit_transform(data['icu_stay_type'])\n",
    "data['icu_type'] = encoder.fit_transform(data['icu_type'])\n",
    "data['apache_3j_bodysystem'] = encoder.fit_transform(data['apache_3j_bodysystem'])\n",
    "data['apache_2_bodysystem'] = encoder.fit_transform(data['apache_2_bodysystem'])"
   ]
  },
  {
   "cell_type": "code",
   "execution_count": 8,
   "metadata": {},
   "outputs": [
    {
     "data": {
      "text/html": "<div>\n<style scoped>\n    .dataframe tbody tr th:only-of-type {\n        vertical-align: middle;\n    }\n\n    .dataframe tbody tr th {\n        vertical-align: top;\n    }\n\n    .dataframe thead th {\n        text-align: right;\n    }\n</style>\n<table border=\"1\" class=\"dataframe\">\n  <thead>\n    <tr style=\"text-align: right;\">\n      <th></th>\n      <th>encounter_id</th>\n      <th>hospital_id</th>\n      <th>hospital_death</th>\n      <th>age</th>\n      <th>bmi</th>\n      <th>elective_surgery</th>\n      <th>ethnicity</th>\n      <th>gender</th>\n      <th>height</th>\n      <th>hospital_admit_source</th>\n      <th>...</th>\n      <th>aids</th>\n      <th>cirrhosis</th>\n      <th>diabetes_mellitus</th>\n      <th>hepatic_failure</th>\n      <th>immunosuppression</th>\n      <th>leukemia</th>\n      <th>lymphoma</th>\n      <th>solid_tumor_with_metastasis</th>\n      <th>apache_3j_bodysystem</th>\n      <th>apache_2_bodysystem</th>\n    </tr>\n  </thead>\n  <tbody>\n    <tr>\n      <th>0</th>\n      <td>66154</td>\n      <td>118</td>\n      <td>0</td>\n      <td>68.0</td>\n      <td>22.73</td>\n      <td>0</td>\n      <td>2</td>\n      <td>1</td>\n      <td>180.3</td>\n      <td>4</td>\n      <td>...</td>\n      <td>0</td>\n      <td>0</td>\n      <td>1</td>\n      <td>0</td>\n      <td>0</td>\n      <td>0</td>\n      <td>0</td>\n      <td>0</td>\n      <td>9</td>\n      <td>0</td>\n    </tr>\n    <tr>\n      <th>1</th>\n      <td>114252</td>\n      <td>81</td>\n      <td>0</td>\n      <td>77.0</td>\n      <td>27.42</td>\n      <td>0</td>\n      <td>2</td>\n      <td>0</td>\n      <td>160.0</td>\n      <td>4</td>\n      <td>...</td>\n      <td>0</td>\n      <td>0</td>\n      <td>1</td>\n      <td>0</td>\n      <td>0</td>\n      <td>0</td>\n      <td>0</td>\n      <td>0</td>\n      <td>8</td>\n      <td>6</td>\n    </tr>\n    <tr>\n      <th>2</th>\n      <td>119783</td>\n      <td>118</td>\n      <td>0</td>\n      <td>25.0</td>\n      <td>31.95</td>\n      <td>0</td>\n      <td>2</td>\n      <td>0</td>\n      <td>172.7</td>\n      <td>3</td>\n      <td>...</td>\n      <td>0</td>\n      <td>0</td>\n      <td>0</td>\n      <td>0</td>\n      <td>0</td>\n      <td>0</td>\n      <td>0</td>\n      <td>0</td>\n      <td>5</td>\n      <td>3</td>\n    </tr>\n    <tr>\n      <th>3</th>\n      <td>79267</td>\n      <td>118</td>\n      <td>0</td>\n      <td>81.0</td>\n      <td>22.64</td>\n      <td>1</td>\n      <td>2</td>\n      <td>0</td>\n      <td>165.1</td>\n      <td>8</td>\n      <td>...</td>\n      <td>0</td>\n      <td>0</td>\n      <td>0</td>\n      <td>0</td>\n      <td>0</td>\n      <td>0</td>\n      <td>0</td>\n      <td>0</td>\n      <td>0</td>\n      <td>0</td>\n    </tr>\n    <tr>\n      <th>4</th>\n      <td>92056</td>\n      <td>33</td>\n      <td>0</td>\n      <td>19.0</td>\n      <td>28.52</td>\n      <td>0</td>\n      <td>2</td>\n      <td>1</td>\n      <td>188.0</td>\n      <td>4</td>\n      <td>...</td>\n      <td>0</td>\n      <td>0</td>\n      <td>0</td>\n      <td>0</td>\n      <td>0</td>\n      <td>0</td>\n      <td>0</td>\n      <td>0</td>\n      <td>10</td>\n      <td>7</td>\n    </tr>\n  </tbody>\n</table>\n<p>5 rows × 113 columns</p>\n</div>",
      "text/plain": "   encounter_id  hospital_id  hospital_death   age    bmi  elective_surgery  \\\n0         66154          118               0  68.0  22.73                 0   \n1        114252           81               0  77.0  27.42                 0   \n2        119783          118               0  25.0  31.95                 0   \n3         79267          118               0  81.0  22.64                 1   \n4         92056           33               0  19.0  28.52                 0   \n\n   ethnicity  gender  height  hospital_admit_source  ...  aids  cirrhosis  \\\n0          2       1   180.3                      4  ...     0          0   \n1          2       0   160.0                      4  ...     0          0   \n2          2       0   172.7                      3  ...     0          0   \n3          2       0   165.1                      8  ...     0          0   \n4          2       1   188.0                      4  ...     0          0   \n\n   diabetes_mellitus  hepatic_failure  immunosuppression  leukemia  lymphoma  \\\n0                  1                0                  0         0         0   \n1                  1                0                  0         0         0   \n2                  0                0                  0         0         0   \n3                  0                0                  0         0         0   \n4                  0                0                  0         0         0   \n\n   solid_tumor_with_metastasis  apache_3j_bodysystem  apache_2_bodysystem  \n0                            0                     9                    0  \n1                            0                     8                    6  \n2                            0                     5                    3  \n3                            0                     0                    0  \n4                            0                    10                    7  \n\n[5 rows x 113 columns]"
     },
     "execution_count": 8,
     "metadata": {},
     "output_type": "execute_result"
    }
   ],
   "source": [
    "data.head()"
   ]
  },
  {
   "cell_type": "code",
   "execution_count": 9,
   "metadata": {},
   "outputs": [
    {
     "data": {
      "text/plain": "encounter_id                       0\nhospital_id                        0\nhospital_death                     0\nage                                0\nbmi                                0\nelective_surgery                   0\nethnicity                          0\ngender                             0\nheight                             0\nhospital_admit_source              0\nicu_admit_source                   0\nicu_stay_type                      0\nicu_type                           0\npre_icu_los_days                   0\nreadmission_status                 0\nweight                             0\napache_2_diagnosis                 0\napache_3j_diagnosis                0\napache_post_operative              0\narf_apache                         0\nbun_apache                         0\ncreatinine_apache                  0\ngcs_eyes_apache                    0\ngcs_motor_apache                   0\ngcs_unable_apache                  0\ngcs_verbal_apache                  0\nglucose_apache                     0\nheart_rate_apache                  0\nhematocrit_apache                  0\nintubated_apache                   0\nmap_apache                         0\nresprate_apache                    0\nsodium_apache                      0\ntemp_apache                        0\nurineoutput_apache                 0\nventilated_apache                  0\nwbc_apache                         0\nd1_diasbp_max                      0\nd1_diasbp_min                      0\nd1_diasbp_noninvasive_max          0\nd1_diasbp_noninvasive_min          0\nd1_heartrate_max                   0\nd1_heartrate_min                   0\nd1_mbp_max                         0\nd1_mbp_min                         0\nd1_mbp_noninvasive_max             0\nd1_mbp_noninvasive_min             0\nd1_resprate_max                    0\nd1_resprate_min                    0\nd1_spo2_max                      247\nd1_spo2_min                        0\nd1_sysbp_max                       0\nd1_sysbp_min                       0\nd1_sysbp_noninvasive_max           0\nd1_sysbp_noninvasive_min           0\nd1_temp_max                        0\nd1_temp_min                        0\nh1_diasbp_max                      0\nh1_diasbp_min                      0\nh1_diasbp_noninvasive_max          0\nh1_diasbp_noninvasive_min          0\nh1_heartrate_max                   0\nh1_heartrate_min                   0\nh1_mbp_max                         0\nh1_mbp_min                         0\nh1_mbp_noninvasive_max             0\nh1_mbp_noninvasive_min             0\nh1_resprate_max                    0\nh1_resprate_min                    0\nh1_spo2_max                        0\nh1_spo2_min                        0\nh1_sysbp_max                       0\nh1_sysbp_min                       0\nh1_sysbp_noninvasive_max           0\nh1_sysbp_noninvasive_min           0\nh1_temp_max                        0\nh1_temp_min                        0\nd1_albumin_max                     0\nd1_albumin_min                     0\nd1_bun_max                         0\nd1_bun_min                         0\nd1_calcium_max                     0\nd1_calcium_min                     0\nd1_creatinine_max                  0\nd1_creatinine_min                  0\nd1_glucose_max                     0\nd1_glucose_min                     0\nd1_hco3_max                        0\nd1_hco3_min                        0\nd1_hemaglobin_max                  0\nd1_hemaglobin_min                  0\nd1_hematocrit_max                  0\nd1_hematocrit_min                  0\nd1_platelets_max                   0\nd1_platelets_min                   0\nd1_potassium_max                   0\nd1_potassium_min                   0\nd1_sodium_max                      0\nd1_sodium_min                      0\nd1_wbc_max                         0\nd1_wbc_min                         0\napache_4a_hospital_death_prob      0\napache_4a_icu_death_prob           0\naids                               0\ncirrhosis                          0\ndiabetes_mellitus                  0\nhepatic_failure                    0\nimmunosuppression                  0\nleukemia                           0\nlymphoma                           0\nsolid_tumor_with_metastasis        0\napache_3j_bodysystem               0\napache_2_bodysystem                0\ndtype: int64"
     },
     "execution_count": 9,
     "metadata": {},
     "output_type": "execute_result"
    }
   ],
   "source": [
    "pd.set_option('display.max_rows', 500)\n",
    "data.isnull().sum()"
   ]
  },
  {
   "cell_type": "code",
   "execution_count": 10,
   "metadata": {},
   "outputs": [
    {
     "data": {
      "text/plain": "0"
     },
     "execution_count": 10,
     "metadata": {},
     "output_type": "execute_result"
    }
   ],
   "source": [
    "# replace the null value of the d1_spo2_max column by mode\n",
    "data.fillna(data['d1_spo2_max'].mean(), inplace = True)\n",
    "data.isnull().sum().sum()"
   ]
  },
  {
   "cell_type": "markdown",
   "metadata": {},
   "source": [
    "### No normalization/ dummy"
   ]
  },
  {
   "cell_type": "code",
   "execution_count": 11,
   "metadata": {},
   "outputs": [],
   "source": [
    "# split data\n",
    "y = data['hospital_death']\n",
    "X = data.drop(['hospital_death','encounter_id','hospital_id'], axis = 1)"
   ]
  },
  {
   "cell_type": "code",
   "execution_count": 7,
   "metadata": {},
   "outputs": [],
   "source": [
    "from sklearn.model_selection import train_test_split\n",
    "X_train, X_test, y_train, y_test = train_test_split(X, y, test_size=0.3, random_state=42)"
   ]
  },
  {
   "cell_type": "code",
   "execution_count": 13,
   "metadata": {},
   "outputs": [],
   "source": [
    "# train the model\n",
    "clf = DecisionTreeClassifier(random_state = 101)"
   ]
  },
  {
   "cell_type": "code",
   "execution_count": 14,
   "metadata": {},
   "outputs": [
    {
     "data": {
      "text/plain": "DecisionTreeClassifier(ccp_alpha=0.0, class_weight=None, criterion='gini',\n                       max_depth=None, max_features=None, max_leaf_nodes=None,\n                       min_impurity_decrease=0.0, min_impurity_split=None,\n                       min_samples_leaf=1, min_samples_split=2,\n                       min_weight_fraction_leaf=0.0, presort='deprecated',\n                       random_state=101, splitter='best')"
     },
     "execution_count": 14,
     "metadata": {},
     "output_type": "execute_result"
    }
   ],
   "source": [
    "clf.fit(X_train, y_train)"
   ]
  },
  {
   "cell_type": "code",
   "execution_count": 15,
   "metadata": {},
   "outputs": [],
   "source": [
    "y_predict = clf.predict(X_test)"
   ]
  },
  {
   "cell_type": "code",
   "execution_count": 16,
   "metadata": {},
   "outputs": [
    {
     "data": {
      "text/plain": "0.8806871951663391"
     },
     "execution_count": 16,
     "metadata": {},
     "output_type": "execute_result"
    }
   ],
   "source": [
    "# check the acuracy\n",
    "from sklearn.metrics import accuracy_score\n",
    "accuracy_score(y_test, y_predict)"
   ]
  },
  {
   "cell_type": "markdown",
   "metadata": {},
   "source": [
    "### normalization & dummy\n",
    "not used"
   ]
  },
  {
   "cell_type": "code",
   "execution_count": 3,
   "metadata": {},
   "outputs": [],
   "source": [
    "# import the file\n",
    "data2 = pd.read_csv('filled_training_data.csv')"
   ]
  },
  {
   "cell_type": "code",
   "execution_count": 4,
   "metadata": {},
   "outputs": [
    {
     "name": "stdout",
     "output_type": "stream",
     "text": "There are 14 columns to remove.\n"
    }
   ],
   "source": [
    "# creating independent features X and dependant feature Y\n",
    "y = data2['hospital_death']\n",
    "X = data2.copy()\n",
    "X = data2.drop('hospital_death',axis = 1)\n",
    "X1 = data2.drop('hospital_death',axis = 1)\n",
    "# Threshold for removing correlated variables\n",
    "threshold = 0.9\n",
    "\n",
    "# Absolute value correlation matrix\n",
    "corr_matrix = X.corr().abs()\n",
    "corr_matrix.head()\n",
    "# Upper triangle of correlations\n",
    "upper = corr_matrix.where(np.triu(np.ones(corr_matrix.shape), k=1).astype(np.bool))\n",
    "upper.head()\n",
    "# Select columns with correlations above threshold\n",
    "to_drop = [column for column in upper.columns if any(upper[column] > threshold)]\n",
    "print('There are %d columns to remove.' % (len(to_drop)))\n",
    "#Drop the columns with high correlations\n",
    "X = X.drop(columns = to_drop)"
   ]
  },
  {
   "cell_type": "code",
   "execution_count": 10,
   "metadata": {},
   "outputs": [],
   "source": [
    "import lightgbm as lgb"
   ]
  },
  {
   "cell_type": "code",
   "execution_count": 8,
   "metadata": {},
   "outputs": [
    {
     "ename": "ValueError",
     "evalue": "DataFrame.dtypes for data must be int, float or bool.\nDid not expect the data types in the following fields: ethnicity, gender, hospital_admit_source, icu_admit_source, icu_stay_type, icu_type, apache_3j_bodysystem, apache_2_bodysystem",
     "output_type": "error",
     "traceback": [
      "\u001b[1;31m---------------------------------------------------------------------------\u001b[0m",
      "\u001b[1;31mValueError\u001b[0m                                Traceback (most recent call last)",
      "\u001b[1;32m<ipython-input-8-d86289e90645>\u001b[0m in \u001b[0;36m<module>\u001b[1;34m\u001b[0m\n\u001b[0;32m     11\u001b[0m \u001b[1;33m\u001b[0m\u001b[0m\n\u001b[0;32m     12\u001b[0m     \u001b[1;31m# Train using early stopping\u001b[0m\u001b[1;33m\u001b[0m\u001b[1;33m\u001b[0m\u001b[1;33m\u001b[0m\u001b[0m\n\u001b[1;32m---> 13\u001b[1;33m     \u001b[0mmodel\u001b[0m\u001b[1;33m.\u001b[0m\u001b[0mfit\u001b[0m\u001b[1;33m(\u001b[0m\u001b[0mtrain_features\u001b[0m\u001b[1;33m,\u001b[0m \u001b[0mtrain_y\u001b[0m\u001b[1;33m,\u001b[0m \u001b[0mearly_stopping_rounds\u001b[0m\u001b[1;33m=\u001b[0m\u001b[1;36m100\u001b[0m\u001b[1;33m,\u001b[0m \u001b[0meval_set\u001b[0m \u001b[1;33m=\u001b[0m \u001b[1;33m[\u001b[0m\u001b[1;33m(\u001b[0m\u001b[0mvalid_features\u001b[0m\u001b[1;33m,\u001b[0m \u001b[0mvalid_y\u001b[0m\u001b[1;33m)\u001b[0m\u001b[1;33m]\u001b[0m\u001b[1;33m,\u001b[0m\u001b[0meval_metric\u001b[0m \u001b[1;33m=\u001b[0m \u001b[1;34m'auc'\u001b[0m\u001b[1;33m,\u001b[0m \u001b[0mverbose\u001b[0m \u001b[1;33m=\u001b[0m \u001b[1;36m200\u001b[0m\u001b[1;33m)\u001b[0m\u001b[1;33m\u001b[0m\u001b[1;33m\u001b[0m\u001b[0m\n\u001b[0m\u001b[0;32m     14\u001b[0m \u001b[1;33m\u001b[0m\u001b[0m\n\u001b[0;32m     15\u001b[0m     \u001b[1;31m# Record the feature importances\u001b[0m\u001b[1;33m\u001b[0m\u001b[1;33m\u001b[0m\u001b[1;33m\u001b[0m\u001b[0m\n",
      "\u001b[1;32m~\\Anaconda3\\envs\\WD2020\\lib\\site-packages\\lightgbm\\sklearn.py\u001b[0m in \u001b[0;36mfit\u001b[1;34m(self, X, y, sample_weight, init_score, eval_set, eval_names, eval_sample_weight, eval_class_weight, eval_init_score, eval_metric, early_stopping_rounds, verbose, feature_name, categorical_feature, callbacks)\u001b[0m\n\u001b[0;32m    798\u001b[0m                                         \u001b[0mverbose\u001b[0m\u001b[1;33m=\u001b[0m\u001b[0mverbose\u001b[0m\u001b[1;33m,\u001b[0m \u001b[0mfeature_name\u001b[0m\u001b[1;33m=\u001b[0m\u001b[0mfeature_name\u001b[0m\u001b[1;33m,\u001b[0m\u001b[1;33m\u001b[0m\u001b[1;33m\u001b[0m\u001b[0m\n\u001b[0;32m    799\u001b[0m                                         \u001b[0mcategorical_feature\u001b[0m\u001b[1;33m=\u001b[0m\u001b[0mcategorical_feature\u001b[0m\u001b[1;33m,\u001b[0m\u001b[1;33m\u001b[0m\u001b[1;33m\u001b[0m\u001b[0m\n\u001b[1;32m--> 800\u001b[1;33m                                         callbacks=callbacks)\n\u001b[0m\u001b[0;32m    801\u001b[0m         \u001b[1;32mreturn\u001b[0m \u001b[0mself\u001b[0m\u001b[1;33m\u001b[0m\u001b[1;33m\u001b[0m\u001b[0m\n\u001b[0;32m    802\u001b[0m \u001b[1;33m\u001b[0m\u001b[0m\n",
      "\u001b[1;32m~\\Anaconda3\\envs\\WD2020\\lib\\site-packages\\lightgbm\\sklearn.py\u001b[0m in \u001b[0;36mfit\u001b[1;34m(self, X, y, sample_weight, init_score, group, eval_set, eval_names, eval_sample_weight, eval_class_weight, eval_init_score, eval_group, eval_metric, early_stopping_rounds, verbose, feature_name, categorical_feature, callbacks)\u001b[0m\n\u001b[0;32m    593\u001b[0m                               \u001b[0mverbose_eval\u001b[0m\u001b[1;33m=\u001b[0m\u001b[0mverbose\u001b[0m\u001b[1;33m,\u001b[0m \u001b[0mfeature_name\u001b[0m\u001b[1;33m=\u001b[0m\u001b[0mfeature_name\u001b[0m\u001b[1;33m,\u001b[0m\u001b[1;33m\u001b[0m\u001b[1;33m\u001b[0m\u001b[0m\n\u001b[0;32m    594\u001b[0m                               \u001b[0mcategorical_feature\u001b[0m\u001b[1;33m=\u001b[0m\u001b[0mcategorical_feature\u001b[0m\u001b[1;33m,\u001b[0m\u001b[1;33m\u001b[0m\u001b[1;33m\u001b[0m\u001b[0m\n\u001b[1;32m--> 595\u001b[1;33m                               callbacks=callbacks)\n\u001b[0m\u001b[0;32m    596\u001b[0m \u001b[1;33m\u001b[0m\u001b[0m\n\u001b[0;32m    597\u001b[0m         \u001b[1;32mif\u001b[0m \u001b[0mevals_result\u001b[0m\u001b[1;33m:\u001b[0m\u001b[1;33m\u001b[0m\u001b[1;33m\u001b[0m\u001b[0m\n",
      "\u001b[1;32m~\\Anaconda3\\envs\\WD2020\\lib\\site-packages\\lightgbm\\engine.py\u001b[0m in \u001b[0;36mtrain\u001b[1;34m(params, train_set, num_boost_round, valid_sets, valid_names, fobj, feval, init_model, feature_name, categorical_feature, early_stopping_rounds, evals_result, verbose_eval, learning_rates, keep_training_booster, callbacks)\u001b[0m\n\u001b[0;32m    226\u001b[0m     \u001b[1;31m# construct booster\u001b[0m\u001b[1;33m\u001b[0m\u001b[1;33m\u001b[0m\u001b[1;33m\u001b[0m\u001b[0m\n\u001b[0;32m    227\u001b[0m     \u001b[1;32mtry\u001b[0m\u001b[1;33m:\u001b[0m\u001b[1;33m\u001b[0m\u001b[1;33m\u001b[0m\u001b[0m\n\u001b[1;32m--> 228\u001b[1;33m         \u001b[0mbooster\u001b[0m \u001b[1;33m=\u001b[0m \u001b[0mBooster\u001b[0m\u001b[1;33m(\u001b[0m\u001b[0mparams\u001b[0m\u001b[1;33m=\u001b[0m\u001b[0mparams\u001b[0m\u001b[1;33m,\u001b[0m \u001b[0mtrain_set\u001b[0m\u001b[1;33m=\u001b[0m\u001b[0mtrain_set\u001b[0m\u001b[1;33m)\u001b[0m\u001b[1;33m\u001b[0m\u001b[1;33m\u001b[0m\u001b[0m\n\u001b[0m\u001b[0;32m    229\u001b[0m         \u001b[1;32mif\u001b[0m \u001b[0mis_valid_contain_train\u001b[0m\u001b[1;33m:\u001b[0m\u001b[1;33m\u001b[0m\u001b[1;33m\u001b[0m\u001b[0m\n\u001b[0;32m    230\u001b[0m             \u001b[0mbooster\u001b[0m\u001b[1;33m.\u001b[0m\u001b[0mset_train_data_name\u001b[0m\u001b[1;33m(\u001b[0m\u001b[0mtrain_data_name\u001b[0m\u001b[1;33m)\u001b[0m\u001b[1;33m\u001b[0m\u001b[1;33m\u001b[0m\u001b[0m\n",
      "\u001b[1;32m~\\Anaconda3\\envs\\WD2020\\lib\\site-packages\\lightgbm\\basic.py\u001b[0m in \u001b[0;36m__init__\u001b[1;34m(self, params, train_set, model_file, model_str, silent)\u001b[0m\n\u001b[0;32m   1662\u001b[0m             \u001b[0mself\u001b[0m\u001b[1;33m.\u001b[0m\u001b[0mhandle\u001b[0m \u001b[1;33m=\u001b[0m \u001b[0mctypes\u001b[0m\u001b[1;33m.\u001b[0m\u001b[0mc_void_p\u001b[0m\u001b[1;33m(\u001b[0m\u001b[1;33m)\u001b[0m\u001b[1;33m\u001b[0m\u001b[1;33m\u001b[0m\u001b[0m\n\u001b[0;32m   1663\u001b[0m             _safe_call(_LIB.LGBM_BoosterCreate(\n\u001b[1;32m-> 1664\u001b[1;33m                 \u001b[0mtrain_set\u001b[0m\u001b[1;33m.\u001b[0m\u001b[0mconstruct\u001b[0m\u001b[1;33m(\u001b[0m\u001b[1;33m)\u001b[0m\u001b[1;33m.\u001b[0m\u001b[0mhandle\u001b[0m\u001b[1;33m,\u001b[0m\u001b[1;33m\u001b[0m\u001b[1;33m\u001b[0m\u001b[0m\n\u001b[0m\u001b[0;32m   1665\u001b[0m                 \u001b[0mc_str\u001b[0m\u001b[1;33m(\u001b[0m\u001b[0mparams_str\u001b[0m\u001b[1;33m)\u001b[0m\u001b[1;33m,\u001b[0m\u001b[1;33m\u001b[0m\u001b[1;33m\u001b[0m\u001b[0m\n\u001b[0;32m   1666\u001b[0m                 ctypes.byref(self.handle)))\n",
      "\u001b[1;32m~\\Anaconda3\\envs\\WD2020\\lib\\site-packages\\lightgbm\\basic.py\u001b[0m in \u001b[0;36mconstruct\u001b[1;34m(self)\u001b[0m\n\u001b[0;32m   1035\u001b[0m                                 \u001b[0minit_score\u001b[0m\u001b[1;33m=\u001b[0m\u001b[0mself\u001b[0m\u001b[1;33m.\u001b[0m\u001b[0minit_score\u001b[0m\u001b[1;33m,\u001b[0m \u001b[0mpredictor\u001b[0m\u001b[1;33m=\u001b[0m\u001b[0mself\u001b[0m\u001b[1;33m.\u001b[0m\u001b[0m_predictor\u001b[0m\u001b[1;33m,\u001b[0m\u001b[1;33m\u001b[0m\u001b[1;33m\u001b[0m\u001b[0m\n\u001b[0;32m   1036\u001b[0m                                 \u001b[0msilent\u001b[0m\u001b[1;33m=\u001b[0m\u001b[0mself\u001b[0m\u001b[1;33m.\u001b[0m\u001b[0msilent\u001b[0m\u001b[1;33m,\u001b[0m \u001b[0mfeature_name\u001b[0m\u001b[1;33m=\u001b[0m\u001b[0mself\u001b[0m\u001b[1;33m.\u001b[0m\u001b[0mfeature_name\u001b[0m\u001b[1;33m,\u001b[0m\u001b[1;33m\u001b[0m\u001b[1;33m\u001b[0m\u001b[0m\n\u001b[1;32m-> 1037\u001b[1;33m                                 categorical_feature=self.categorical_feature, params=self.params)\n\u001b[0m\u001b[0;32m   1038\u001b[0m             \u001b[1;32mif\u001b[0m \u001b[0mself\u001b[0m\u001b[1;33m.\u001b[0m\u001b[0mfree_raw_data\u001b[0m\u001b[1;33m:\u001b[0m\u001b[1;33m\u001b[0m\u001b[1;33m\u001b[0m\u001b[0m\n\u001b[0;32m   1039\u001b[0m                 \u001b[0mself\u001b[0m\u001b[1;33m.\u001b[0m\u001b[0mdata\u001b[0m \u001b[1;33m=\u001b[0m \u001b[1;32mNone\u001b[0m\u001b[1;33m\u001b[0m\u001b[1;33m\u001b[0m\u001b[0m\n",
      "\u001b[1;32m~\\Anaconda3\\envs\\WD2020\\lib\\site-packages\\lightgbm\\basic.py\u001b[0m in \u001b[0;36m_lazy_init\u001b[1;34m(self, data, label, reference, weight, group, init_score, predictor, silent, feature_name, categorical_feature, params)\u001b[0m\n\u001b[0;32m    780\u001b[0m                                                                                              \u001b[0mfeature_name\u001b[0m\u001b[1;33m,\u001b[0m\u001b[1;33m\u001b[0m\u001b[1;33m\u001b[0m\u001b[0m\n\u001b[0;32m    781\u001b[0m                                                                                              \u001b[0mcategorical_feature\u001b[0m\u001b[1;33m,\u001b[0m\u001b[1;33m\u001b[0m\u001b[1;33m\u001b[0m\u001b[0m\n\u001b[1;32m--> 782\u001b[1;33m                                                                                              self.pandas_categorical)\n\u001b[0m\u001b[0;32m    783\u001b[0m         \u001b[0mlabel\u001b[0m \u001b[1;33m=\u001b[0m \u001b[0m_label_from_pandas\u001b[0m\u001b[1;33m(\u001b[0m\u001b[0mlabel\u001b[0m\u001b[1;33m)\u001b[0m\u001b[1;33m\u001b[0m\u001b[1;33m\u001b[0m\u001b[0m\n\u001b[0;32m    784\u001b[0m \u001b[1;33m\u001b[0m\u001b[0m\n",
      "\u001b[1;32m~\\Anaconda3\\envs\\WD2020\\lib\\site-packages\\lightgbm\\basic.py\u001b[0m in \u001b[0;36m_data_from_pandas\u001b[1;34m(data, feature_name, categorical_feature, pandas_categorical)\u001b[0m\n\u001b[0;32m    293\u001b[0m             raise ValueError(\"DataFrame.dtypes for data must be int, float or bool.\\n\"\n\u001b[0;32m    294\u001b[0m                              \u001b[1;34m\"Did not expect the data types in the following fields: \"\u001b[0m\u001b[1;33m\u001b[0m\u001b[1;33m\u001b[0m\u001b[0m\n\u001b[1;32m--> 295\u001b[1;33m                              + ', '.join(data.columns[bad_indices]))\n\u001b[0m\u001b[0;32m    296\u001b[0m         \u001b[0mdata\u001b[0m \u001b[1;33m=\u001b[0m \u001b[0mdata\u001b[0m\u001b[1;33m.\u001b[0m\u001b[0mvalues\u001b[0m\u001b[1;33m\u001b[0m\u001b[1;33m\u001b[0m\u001b[0m\n\u001b[0;32m    297\u001b[0m         \u001b[1;32mif\u001b[0m \u001b[0mdata\u001b[0m\u001b[1;33m.\u001b[0m\u001b[0mdtype\u001b[0m \u001b[1;33m!=\u001b[0m \u001b[0mnp\u001b[0m\u001b[1;33m.\u001b[0m\u001b[0mfloat32\u001b[0m \u001b[1;32mand\u001b[0m \u001b[0mdata\u001b[0m\u001b[1;33m.\u001b[0m\u001b[0mdtype\u001b[0m \u001b[1;33m!=\u001b[0m \u001b[0mnp\u001b[0m\u001b[1;33m.\u001b[0m\u001b[0mfloat64\u001b[0m\u001b[1;33m:\u001b[0m\u001b[1;33m\u001b[0m\u001b[1;33m\u001b[0m\u001b[0m\n",
      "\u001b[1;31mValueError\u001b[0m: DataFrame.dtypes for data must be int, float or bool.\nDid not expect the data types in the following fields: ethnicity, gender, hospital_admit_source, icu_admit_source, icu_stay_type, icu_type, apache_3j_bodysystem, apache_2_bodysystem"
     ]
    }
   ],
   "source": [
    "#X = pd.get_dummies(X)\n",
    "# Initialize an empty array to hold feature importances\n",
    "feature_importances = np.zeros(X.shape[1])\n",
    "\n",
    "# Create the model with several hyperparameters\n",
    "model = lgb.LGBMClassifier(objective='binary', boosting_type = 'goss', n_estimators = 10000, class_weight = 'balanced')\n",
    "for i in range(2):\n",
    "    \n",
    "    # Split into training and validation set\n",
    "    train_features, valid_features, train_y, valid_y = train_test_split(X, y, test_size = 0.25, random_state = i)\n",
    "    \n",
    "    # Train using early stopping\n",
    "    model.fit(train_features, train_y, early_stopping_rounds=100, eval_set = [(valid_features, valid_y)],eval_metric = 'auc', verbose = 200)\n",
    "    \n",
    "    # Record the feature importances\n",
    "    feature_importances += model.feature_importances_\n",
    "# Make sure to average feature importances! \n",
    "feature_importances = feature_importances / 2\n",
    "feature_importances = pd.DataFrame({'feature': list(X.columns), 'importance': feature_importances}).sort_values('importance', ascending = False)\n",
    "feature_importances.head()\n",
    "# Find the features with zero importance\n",
    "zero_features = list(feature_importances[feature_importances['importance'] == 0.0]['feature'])\n",
    "print('There are %d features with 0.0 importance' % len(zero_features))\n",
    "feature_importances.tail()\n",
    "# Drop features with zero importance\n",
    "X = X.drop(columns = zero_features)"
   ]
  },
  {
   "cell_type": "code",
   "execution_count": 7,
   "metadata": {},
   "outputs": [
    {
     "data": {
      "text/html": "<div>\n<style scoped>\n    .dataframe tbody tr th:only-of-type {\n        vertical-align: middle;\n    }\n\n    .dataframe tbody tr th {\n        vertical-align: top;\n    }\n\n    .dataframe thead th {\n        text-align: right;\n    }\n</style>\n<table border=\"1\" class=\"dataframe\">\n  <thead>\n    <tr style=\"text-align: right;\">\n      <th></th>\n      <th>encounter_id</th>\n      <th>hospital_id</th>\n      <th>age</th>\n      <th>bmi</th>\n      <th>elective_surgery</th>\n      <th>ethnicity</th>\n      <th>gender</th>\n      <th>height</th>\n      <th>hospital_admit_source</th>\n      <th>icu_admit_source</th>\n      <th>...</th>\n      <th>aids</th>\n      <th>cirrhosis</th>\n      <th>diabetes_mellitus</th>\n      <th>hepatic_failure</th>\n      <th>immunosuppression</th>\n      <th>leukemia</th>\n      <th>lymphoma</th>\n      <th>solid_tumor_with_metastasis</th>\n      <th>apache_3j_bodysystem</th>\n      <th>apache_2_bodysystem</th>\n    </tr>\n  </thead>\n  <tbody>\n    <tr>\n      <th>0</th>\n      <td>2</td>\n      <td>7</td>\n      <td>56.00</td>\n      <td>21.102439</td>\n      <td>0</td>\n      <td>Caucasian</td>\n      <td>M</td>\n      <td>180.30</td>\n      <td>Emergency Department</td>\n      <td>Accident &amp; Emergency</td>\n      <td>...</td>\n      <td>0.0</td>\n      <td>0.0</td>\n      <td>0.0</td>\n      <td>0.0</td>\n      <td>0.0</td>\n      <td>0.0</td>\n      <td>0.0</td>\n      <td>0.0</td>\n      <td>Neurological</td>\n      <td>Neurologic</td>\n    </tr>\n    <tr>\n      <th>1</th>\n      <td>5</td>\n      <td>178</td>\n      <td>64.33</td>\n      <td>19.500595</td>\n      <td>1</td>\n      <td>Caucasian</td>\n      <td>F</td>\n      <td>145.00</td>\n      <td>Operating Room</td>\n      <td>Operating Room / Recovery</td>\n      <td>...</td>\n      <td>0.0</td>\n      <td>0.0</td>\n      <td>0.0</td>\n      <td>0.0</td>\n      <td>0.0</td>\n      <td>0.0</td>\n      <td>0.0</td>\n      <td>0.0</td>\n      <td>Neurological</td>\n      <td>Neurologic</td>\n    </tr>\n    <tr>\n      <th>2</th>\n      <td>7</td>\n      <td>86</td>\n      <td>66.00</td>\n      <td>32.518596</td>\n      <td>1</td>\n      <td>African American</td>\n      <td>M</td>\n      <td>170.20</td>\n      <td>Operating Room</td>\n      <td>Operating Room / Recovery</td>\n      <td>...</td>\n      <td>0.0</td>\n      <td>0.0</td>\n      <td>0.0</td>\n      <td>0.0</td>\n      <td>0.0</td>\n      <td>0.0</td>\n      <td>0.0</td>\n      <td>0.0</td>\n      <td>Cardiovascular</td>\n      <td>Cardiovascular</td>\n    </tr>\n    <tr>\n      <th>3</th>\n      <td>8</td>\n      <td>163</td>\n      <td>64.00</td>\n      <td>20.798520</td>\n      <td>0</td>\n      <td>Caucasian</td>\n      <td>M</td>\n      <td>182.80</td>\n      <td>Operating Room</td>\n      <td>Operating Room / Recovery</td>\n      <td>...</td>\n      <td>0.0</td>\n      <td>0.0</td>\n      <td>0.0</td>\n      <td>0.0</td>\n      <td>1.0</td>\n      <td>0.0</td>\n      <td>0.0</td>\n      <td>0.0</td>\n      <td>Respiratory</td>\n      <td>Respiratory</td>\n    </tr>\n    <tr>\n      <th>4</th>\n      <td>10</td>\n      <td>59</td>\n      <td>56.00</td>\n      <td>20.190000</td>\n      <td>0</td>\n      <td>Caucasian</td>\n      <td>M</td>\n      <td>167.05</td>\n      <td>Emergency Department</td>\n      <td>Accident &amp; Emergency</td>\n      <td>...</td>\n      <td>0.0</td>\n      <td>0.0</td>\n      <td>0.0</td>\n      <td>0.0</td>\n      <td>0.0</td>\n      <td>0.0</td>\n      <td>0.0</td>\n      <td>0.0</td>\n      <td>Neurological</td>\n      <td>Neurologic</td>\n    </tr>\n  </tbody>\n</table>\n<p>5 rows × 98 columns</p>\n</div>",
      "text/plain": "   encounter_id  hospital_id    age        bmi  elective_surgery  \\\n0             2            7  56.00  21.102439                 0   \n1             5          178  64.33  19.500595                 1   \n2             7           86  66.00  32.518596                 1   \n3             8          163  64.00  20.798520                 0   \n4            10           59  56.00  20.190000                 0   \n\n          ethnicity gender  height hospital_admit_source  \\\n0         Caucasian      M  180.30  Emergency Department   \n1         Caucasian      F  145.00        Operating Room   \n2  African American      M  170.20        Operating Room   \n3         Caucasian      M  182.80        Operating Room   \n4         Caucasian      M  167.05  Emergency Department   \n\n            icu_admit_source  ... aids cirrhosis  diabetes_mellitus  \\\n0       Accident & Emergency  ...  0.0       0.0                0.0   \n1  Operating Room / Recovery  ...  0.0       0.0                0.0   \n2  Operating Room / Recovery  ...  0.0       0.0                0.0   \n3  Operating Room / Recovery  ...  0.0       0.0                0.0   \n4       Accident & Emergency  ...  0.0       0.0                0.0   \n\n   hepatic_failure  immunosuppression  leukemia  lymphoma  \\\n0              0.0                0.0       0.0       0.0   \n1              0.0                0.0       0.0       0.0   \n2              0.0                0.0       0.0       0.0   \n3              0.0                1.0       0.0       0.0   \n4              0.0                0.0       0.0       0.0   \n\n   solid_tumor_with_metastasis  apache_3j_bodysystem  apache_2_bodysystem  \n0                          0.0          Neurological           Neurologic  \n1                          0.0          Neurological           Neurologic  \n2                          0.0        Cardiovascular       Cardiovascular  \n3                          0.0           Respiratory          Respiratory  \n4                          0.0          Neurological           Neurologic  \n\n[5 rows x 98 columns]"
     },
     "execution_count": 7,
     "metadata": {},
     "output_type": "execute_result"
    }
   ],
   "source": [
    "submission = submission.drop(columns=to_drop,errors='ignore')\n",
    "#submission = submission.drop(columns=zero_features,errors='ignore')\n",
    "submission.head()"
   ]
  },
  {
   "cell_type": "code",
   "execution_count": 8,
   "metadata": {},
   "outputs": [],
   "source": [
    "from sklearn.metrics import roc_auc_score\n",
    "from sklearn.metrics import auc\n",
    "from sklearn.model_selection import StratifiedKFold\n",
    "from sklearn.preprocessing import LabelEncoder, OneHotEncoder\n",
    "from datetime import datetime, date, time, timedelta"
   ]
  },
  {
   "cell_type": "code",
   "execution_count": 20,
   "metadata": {},
   "outputs": [
    {
     "name": "stdout",
     "output_type": "stream",
     "text": "fold 0\nTraining until validation scores don't improve for 100 rounds\n[200]\tvalid_0's auc: 0.892976\n[400]\tvalid_0's auc: 0.898647\n[600]\tvalid_0's auc: 0.901927\n[800]\tvalid_0's auc: 0.903713\n[1000]\tvalid_0's auc: 0.904933\n[1200]\tvalid_0's auc: 0.90572\n[1400]\tvalid_0's auc: 0.906385\n[1600]\tvalid_0's auc: 0.906548\n[1800]\tvalid_0's auc: 0.906721\nEarly stopping, best iteration is:\n[1892]\tvalid_0's auc: 0.90682\nfold 1\nTraining until validation scores don't improve for 100 rounds\n[200]\tvalid_0's auc: 0.898384\n[400]\tvalid_0's auc: 0.904454\n[600]\tvalid_0's auc: 0.907658\n[800]\tvalid_0's auc: 0.909486\n[1000]\tvalid_0's auc: 0.910491\n[1200]\tvalid_0's auc: 0.911\n[1400]\tvalid_0's auc: 0.911331\n[1600]\tvalid_0's auc: 0.911507\n[1800]\tvalid_0's auc: 0.911558\nEarly stopping, best iteration is:\n[1717]\tvalid_0's auc: 0.911581\nfold 2\nTraining until validation scores don't improve for 100 rounds\n[200]\tvalid_0's auc: 0.892888\n[400]\tvalid_0's auc: 0.898754\n[600]\tvalid_0's auc: 0.902444\n[800]\tvalid_0's auc: 0.904615\n[1000]\tvalid_0's auc: 0.905729\n[1200]\tvalid_0's auc: 0.906788\n[1400]\tvalid_0's auc: 0.907288\n[1600]\tvalid_0's auc: 0.907645\n[1800]\tvalid_0's auc: 0.907851\nEarly stopping, best iteration is:\n[1854]\tvalid_0's auc: 0.907879\n0.9086763423825941\nmean: 0.908760050980345\nstd: 0.002041389977723101\n"
    }
   ],
   "source": [
    "def label_var(data,variables_cat):\n",
    "    lb=[]\n",
    "    for m in variables_cat:\n",
    "        l=LabelEncoder()\n",
    "        lb.append(l.fit(list(data[m].dropna())))\n",
    "    \n",
    "    return lb\n",
    "\n",
    "def label_enc(data,l,categorical_features):\n",
    "    i=0\n",
    "    for m in categorical_features:\n",
    "        data.loc[data[m].notnull(),m]=l[i].transform(data.loc[data[m].notnull(),m])\n",
    "        i=i+1\n",
    "\n",
    "df_tr = pd.read_csv('training_v2.csv')\n",
    "df_ts = pd.read_csv('unlabeled.csv')\n",
    "\n",
    "train_columns = [x for x in df_tr.columns if x not in ['encounter_id','patient_id','hospital_death','readmission_status']]\n",
    "\n",
    "categorical_features = []\n",
    "for m in train_columns:\n",
    "    if(df_tr[m].dtypes=='object'):\n",
    "        categorical_features.append(m)\n",
    "        \n",
    "df_tr_ts = pd.concat([df_tr[categorical_features],df_ts[categorical_features]])\n",
    "\n",
    "l = label_var(df_tr_ts, categorical_features)\n",
    "label_enc(df_tr,l,categorical_features)\n",
    "label_enc(df_ts,l,categorical_features)\n",
    "\n",
    "for df in [df_tr, df_ts]:\n",
    "    for m in categorical_features:\n",
    "        df[m] = df[m].astype(float)\n",
    "        \n",
    "categorical_index = [train_columns.index(x) for x in categorical_features]\n",
    "\n",
    "target = df_tr['hospital_death']\n",
    "\n",
    "param = {'task': 'train',\n",
    "         'boosting': 'gbdt',\n",
    "         'objective':'binary',\n",
    "         'metric': 'auc',\n",
    "         'num_leaves': 64,\n",
    "         'min_data_in_leaf': 64,\n",
    "         'learning_rate': 0.01,\n",
    "         'max_depth': 10,\n",
    "         'feature_fraction': 0.1,\n",
    "         'bagging_freq': 1,\n",
    "         'bagging_fraction': 0.75,\n",
    "         'use_missing': True,\n",
    "         'nthread': 8\n",
    "        }\n",
    "\n",
    "folds = StratifiedKFold(n_splits=3, shuffle=True, random_state=256)\n",
    "oof = np.zeros(len(df_tr))\n",
    "r=[]\n",
    "predictions = np.zeros(len(df_ts))\n",
    "for fold_, (trn_idx, val_idx) in enumerate(folds.split(df_tr,target.values)):\n",
    "    strLog = \"fold {}\".format(fold_)\n",
    "    print(strLog)\n",
    "    \n",
    "    trn_data = lgb.Dataset(df_tr.iloc[trn_idx][train_columns], label=target.iloc[trn_idx])\n",
    "    val_data = lgb.Dataset(df_tr.iloc[val_idx][train_columns], label=target.iloc[val_idx],reference=trn_data)\n",
    "\n",
    "    num_round = 7000\n",
    "    clf = lgb.train(param,trn_data,num_round,valid_sets=val_data,early_stopping_rounds=100,verbose_eval=200,categorical_feature=categorical_index)\n",
    "    oof[val_idx] = clf.predict(df_tr.iloc[val_idx][train_columns], num_iteration=clf.best_iteration)\n",
    "   \n",
    "    a=roc_auc_score(target.loc[val_idx],clf.predict(df_tr.loc[val_idx,train_columns].values, num_iteration=clf.best_iteration))\n",
    "    r.append(a)\n",
    "    \n",
    "    #predictions\n",
    "    predictions += clf.predict(df_ts[train_columns], num_iteration=clf.best_iteration) / folds.n_splits\n",
    "    \n",
    "strAUC = roc_auc_score(target, oof)\n",
    "print(strAUC)\n",
    "print (\"mean: \"+str(np.mean(np.array(r))))\n",
    "print (\"std: \"+str(np.std(np.array(r))))\n",
    "\n",
    "df_sub = pd.DataFrame({'encounter_id': df_ts['encounter_id']})\n",
    "df_sub['hospital_death'] = predictions\n",
    "\n",
    "df_sub.to_csv(\"sub1.csv\",index=False)"
   ]
  },
  {
   "cell_type": "code",
   "execution_count": 38,
   "metadata": {},
   "outputs": [],
   "source": [
    "num_labels = []\n",
    "lab_labels = []\n",
    "for col in data2.columns:\n",
    "    if(data2[col].nunique() < 30):\n",
    "        lab_labels.append(col)\n",
    "    else:\n",
    "        num_labels.append(col)\n",
    "num_labels.remove('encounter_id')\n",
    "num_labels.remove('hospital_id')\n",
    "lab_labels.append('hospital_id')\n",
    "lab_labels.remove('hospital_death')"
   ]
  },
  {
   "cell_type": "code",
   "execution_count": 39,
   "metadata": {},
   "outputs": [
    {
     "data": {
      "text/html": "<div>\n<style scoped>\n    .dataframe tbody tr th:only-of-type {\n        vertical-align: middle;\n    }\n\n    .dataframe tbody tr th {\n        vertical-align: top;\n    }\n\n    .dataframe thead th {\n        text-align: right;\n    }\n</style>\n<table border=\"1\" class=\"dataframe\">\n  <thead>\n    <tr style=\"text-align: right;\">\n      <th></th>\n      <th>encounter_id</th>\n      <th>hospital_death</th>\n      <th>age</th>\n      <th>bmi</th>\n      <th>height</th>\n      <th>pre_icu_los_days</th>\n      <th>weight</th>\n      <th>apache_2_diagnosis</th>\n      <th>apache_3j_diagnosis</th>\n      <th>bun_apache</th>\n      <th>...</th>\n      <th>hospital_id_192</th>\n      <th>hospital_id_194</th>\n      <th>hospital_id_195</th>\n      <th>hospital_id_196</th>\n      <th>hospital_id_197</th>\n      <th>hospital_id_198</th>\n      <th>hospital_id_199</th>\n      <th>hospital_id_200</th>\n      <th>hospital_id_202</th>\n      <th>hospital_id_204</th>\n    </tr>\n  </thead>\n  <tbody>\n    <tr>\n      <th>0</th>\n      <td>66154</td>\n      <td>0</td>\n      <td>68.00</td>\n      <td>22.730000</td>\n      <td>180.3</td>\n      <td>0.541667</td>\n      <td>73.90</td>\n      <td>113.0</td>\n      <td>502.01</td>\n      <td>31.00</td>\n      <td>...</td>\n      <td>0</td>\n      <td>0</td>\n      <td>0</td>\n      <td>0</td>\n      <td>0</td>\n      <td>0</td>\n      <td>0</td>\n      <td>0</td>\n      <td>0</td>\n      <td>0</td>\n    </tr>\n    <tr>\n      <th>1</th>\n      <td>114252</td>\n      <td>0</td>\n      <td>77.00</td>\n      <td>27.420000</td>\n      <td>160.0</td>\n      <td>0.927778</td>\n      <td>70.20</td>\n      <td>108.0</td>\n      <td>203.01</td>\n      <td>9.00</td>\n      <td>...</td>\n      <td>0</td>\n      <td>0</td>\n      <td>0</td>\n      <td>0</td>\n      <td>0</td>\n      <td>0</td>\n      <td>0</td>\n      <td>0</td>\n      <td>0</td>\n      <td>0</td>\n    </tr>\n    <tr>\n      <th>2</th>\n      <td>119783</td>\n      <td>0</td>\n      <td>25.00</td>\n      <td>31.950000</td>\n      <td>172.7</td>\n      <td>0.000694</td>\n      <td>95.30</td>\n      <td>122.0</td>\n      <td>703.03</td>\n      <td>9.55</td>\n      <td>...</td>\n      <td>0</td>\n      <td>0</td>\n      <td>0</td>\n      <td>0</td>\n      <td>0</td>\n      <td>0</td>\n      <td>0</td>\n      <td>0</td>\n      <td>0</td>\n      <td>0</td>\n    </tr>\n    <tr>\n      <th>3</th>\n      <td>79267</td>\n      <td>0</td>\n      <td>81.00</td>\n      <td>22.640000</td>\n      <td>165.1</td>\n      <td>0.000694</td>\n      <td>61.70</td>\n      <td>203.0</td>\n      <td>1206.03</td>\n      <td>12.86</td>\n      <td>...</td>\n      <td>0</td>\n      <td>0</td>\n      <td>0</td>\n      <td>0</td>\n      <td>0</td>\n      <td>0</td>\n      <td>0</td>\n      <td>0</td>\n      <td>0</td>\n      <td>0</td>\n    </tr>\n    <tr>\n      <th>4</th>\n      <td>92056</td>\n      <td>0</td>\n      <td>19.00</td>\n      <td>28.520000</td>\n      <td>188.0</td>\n      <td>0.073611</td>\n      <td>79.11</td>\n      <td>119.0</td>\n      <td>601.01</td>\n      <td>17.70</td>\n      <td>...</td>\n      <td>0</td>\n      <td>0</td>\n      <td>0</td>\n      <td>0</td>\n      <td>0</td>\n      <td>0</td>\n      <td>0</td>\n      <td>0</td>\n      <td>0</td>\n      <td>0</td>\n    </tr>\n    <tr>\n      <th>...</th>\n      <td>...</td>\n      <td>...</td>\n      <td>...</td>\n      <td>...</td>\n      <td>...</td>\n      <td>...</td>\n      <td>...</td>\n      <td>...</td>\n      <td>...</td>\n      <td>...</td>\n      <td>...</td>\n      <td>...</td>\n      <td>...</td>\n      <td>...</td>\n      <td>...</td>\n      <td>...</td>\n      <td>...</td>\n      <td>...</td>\n      <td>...</td>\n      <td>...</td>\n      <td>...</td>\n    </tr>\n    <tr>\n      <th>91575</th>\n      <td>91592</td>\n      <td>0</td>\n      <td>75.00</td>\n      <td>23.060250</td>\n      <td>177.8</td>\n      <td>0.298611</td>\n      <td>72.90</td>\n      <td>113.0</td>\n      <td>501.06</td>\n      <td>12.79</td>\n      <td>...</td>\n      <td>0</td>\n      <td>0</td>\n      <td>0</td>\n      <td>0</td>\n      <td>0</td>\n      <td>0</td>\n      <td>0</td>\n      <td>0</td>\n      <td>0</td>\n      <td>0</td>\n    </tr>\n    <tr>\n      <th>91576</th>\n      <td>66119</td>\n      <td>0</td>\n      <td>56.00</td>\n      <td>47.179671</td>\n      <td>183.0</td>\n      <td>0.120139</td>\n      <td>158.00</td>\n      <td>113.0</td>\n      <td>501.05</td>\n      <td>34.00</td>\n      <td>...</td>\n      <td>0</td>\n      <td>0</td>\n      <td>0</td>\n      <td>0</td>\n      <td>0</td>\n      <td>0</td>\n      <td>0</td>\n      <td>0</td>\n      <td>0</td>\n      <td>0</td>\n    </tr>\n    <tr>\n      <th>91577</th>\n      <td>8981</td>\n      <td>0</td>\n      <td>48.00</td>\n      <td>27.236914</td>\n      <td>170.2</td>\n      <td>0.046528</td>\n      <td>78.90</td>\n      <td>123.0</td>\n      <td>702.01</td>\n      <td>33.00</td>\n      <td>...</td>\n      <td>0</td>\n      <td>0</td>\n      <td>1</td>\n      <td>0</td>\n      <td>0</td>\n      <td>0</td>\n      <td>0</td>\n      <td>0</td>\n      <td>0</td>\n      <td>0</td>\n    </tr>\n    <tr>\n      <th>91578</th>\n      <td>33776</td>\n      <td>0</td>\n      <td>66.88</td>\n      <td>23.297481</td>\n      <td>154.9</td>\n      <td>0.081944</td>\n      <td>55.90</td>\n      <td>108.0</td>\n      <td>203.01</td>\n      <td>16.51</td>\n      <td>...</td>\n      <td>0</td>\n      <td>0</td>\n      <td>0</td>\n      <td>0</td>\n      <td>0</td>\n      <td>0</td>\n      <td>0</td>\n      <td>0</td>\n      <td>0</td>\n      <td>0</td>\n    </tr>\n    <tr>\n      <th>91579</th>\n      <td>1671</td>\n      <td>0</td>\n      <td>82.00</td>\n      <td>22.031250</td>\n      <td>160.0</td>\n      <td>0.018056</td>\n      <td>56.40</td>\n      <td>304.0</td>\n      <td>1409.02</td>\n      <td>27.00</td>\n      <td>...</td>\n      <td>0</td>\n      <td>0</td>\n      <td>0</td>\n      <td>0</td>\n      <td>0</td>\n      <td>0</td>\n      <td>0</td>\n      <td>0</td>\n      <td>0</td>\n      <td>0</td>\n    </tr>\n  </tbody>\n</table>\n<p>91580 rows × 337 columns</p>\n</div>",
      "text/plain": "       encounter_id  hospital_death    age        bmi  height  \\\n0             66154               0  68.00  22.730000   180.3   \n1            114252               0  77.00  27.420000   160.0   \n2            119783               0  25.00  31.950000   172.7   \n3             79267               0  81.00  22.640000   165.1   \n4             92056               0  19.00  28.520000   188.0   \n...             ...             ...    ...        ...     ...   \n91575         91592               0  75.00  23.060250   177.8   \n91576         66119               0  56.00  47.179671   183.0   \n91577          8981               0  48.00  27.236914   170.2   \n91578         33776               0  66.88  23.297481   154.9   \n91579          1671               0  82.00  22.031250   160.0   \n\n       pre_icu_los_days  weight  apache_2_diagnosis  apache_3j_diagnosis  \\\n0              0.541667   73.90               113.0               502.01   \n1              0.927778   70.20               108.0               203.01   \n2              0.000694   95.30               122.0               703.03   \n3              0.000694   61.70               203.0              1206.03   \n4              0.073611   79.11               119.0               601.01   \n...                 ...     ...                 ...                  ...   \n91575          0.298611   72.90               113.0               501.06   \n91576          0.120139  158.00               113.0               501.05   \n91577          0.046528   78.90               123.0               702.01   \n91578          0.081944   55.90               108.0               203.01   \n91579          0.018056   56.40               304.0              1409.02   \n\n       bun_apache  ...  hospital_id_192  hospital_id_194  hospital_id_195  \\\n0           31.00  ...                0                0                0   \n1            9.00  ...                0                0                0   \n2            9.55  ...                0                0                0   \n3           12.86  ...                0                0                0   \n4           17.70  ...                0                0                0   \n...           ...  ...              ...              ...              ...   \n91575       12.79  ...                0                0                0   \n91576       34.00  ...                0                0                0   \n91577       33.00  ...                0                0                1   \n91578       16.51  ...                0                0                0   \n91579       27.00  ...                0                0                0   \n\n       hospital_id_196  hospital_id_197  hospital_id_198  hospital_id_199  \\\n0                    0                0                0                0   \n1                    0                0                0                0   \n2                    0                0                0                0   \n3                    0                0                0                0   \n4                    0                0                0                0   \n...                ...              ...              ...              ...   \n91575                0                0                0                0   \n91576                0                0                0                0   \n91577                0                0                0                0   \n91578                0                0                0                0   \n91579                0                0                0                0   \n\n       hospital_id_200  hospital_id_202  hospital_id_204  \n0                    0                0                0  \n1                    0                0                0  \n2                    0                0                0  \n3                    0                0                0  \n4                    0                0                0  \n...                ...              ...              ...  \n91575                0                0                0  \n91576                0                0                0  \n91577                0                0                0  \n91578                0                0                0  \n91579                0                0                0  \n\n[91580 rows x 337 columns]"
     },
     "execution_count": 39,
     "metadata": {},
     "output_type": "execute_result"
    }
   ],
   "source": [
    "# change the categorical variables to dummy variables\n",
    "data2 = pd.get_dummies(data2, columns=lab_labels)\n",
    "data2"
   ]
  },
  {
   "cell_type": "code",
   "execution_count": 40,
   "metadata": {},
   "outputs": [
    {
     "data": {
      "text/plain": "0"
     },
     "execution_count": 40,
     "metadata": {},
     "output_type": "execute_result"
    }
   ],
   "source": [
    "# replace the null value of the d1_spo2_max column by mode\n",
    "data2.fillna(data['d1_spo2_max'].mean(), inplace = True)\n",
    "data2.isnull().sum().sum()"
   ]
  },
  {
   "cell_type": "code",
   "execution_count": 42,
   "metadata": {},
   "outputs": [],
   "source": [
    "# split data\n",
    "y = data2['hospital_death']\n",
    "X = data2.drop(['hospital_death','encounter_id'], axis = 1)"
   ]
  },
  {
   "cell_type": "code",
   "execution_count": 56,
   "metadata": {},
   "outputs": [
    {
     "data": {
      "text/plain": "(91580, 335)"
     },
     "execution_count": 56,
     "metadata": {},
     "output_type": "execute_result"
    }
   ],
   "source": [
    "X.shape"
   ]
  },
  {
   "cell_type": "code",
   "execution_count": 43,
   "metadata": {},
   "outputs": [],
   "source": [
    "# normalize \n",
    "from sklearn import preprocessing\n",
    "normalized_X = preprocessing.normalize(X)"
   ]
  },
  {
   "cell_type": "code",
   "execution_count": 44,
   "metadata": {},
   "outputs": [],
   "source": [
    "from sklearn.model_selection import train_test_split\n",
    "X_train, X_test, y_train, y_test = train_test_split(X, y, test_size=0.3, random_state=42)"
   ]
  },
  {
   "cell_type": "code",
   "execution_count": 45,
   "metadata": {},
   "outputs": [],
   "source": [
    "# train the model\n",
    "clf2 = DecisionTreeClassifier()\n",
    "clf2.fit(X_train, y_train)\n",
    "y_predict = clf2.predict(X_test)"
   ]
  },
  {
   "cell_type": "code",
   "execution_count": 46,
   "metadata": {},
   "outputs": [
    {
     "data": {
      "text/plain": "0.8822523112761156"
     },
     "execution_count": 46,
     "metadata": {},
     "output_type": "execute_result"
    }
   ],
   "source": [
    "accuracy_score(y_test, y_predict)"
   ]
  },
  {
   "cell_type": "markdown",
   "metadata": {},
   "source": [
    "## Grid search & PCA"
   ]
  },
  {
   "cell_type": "code",
   "execution_count": 47,
   "metadata": {},
   "outputs": [],
   "source": [
    "from sklearn import decomposition\n",
    "from sklearn import pipeline\n",
    "from sklearn.model_selection import GridSearchCV\n",
    "\n",
    "clf3 = DecisionTreeClassifier()\n",
    "\n",
    "# Create a pca object\n",
    "pca = decomposition.PCA()\n",
    "\n",
    "# tranform the data with PCA.\n",
    "# Third, train a Decision Tree Classifier on the data.\n",
    "pipe = pipeline.Pipeline(steps=[('pca', pca),\n",
    "                           ('decisiontree', clf3)])\n",
    "\n",
    "    \n",
    "# Create lists of parameter for Decision Tree Classifier\n",
    "criterion = ['gini', 'entropy']\n",
    "max_depth = [4,6,8,12,16]\n",
    "    \n",
    "parameters = dict(decisiontree__criterion=criterion, decisiontree__max_depth=max_depth)\n",
    "\n",
    "clf3 = GridSearchCV(pipe, parameters)\n"
   ]
  },
  {
   "cell_type": "code",
   "execution_count": 48,
   "metadata": {},
   "outputs": [
    {
     "data": {
      "text/plain": "GridSearchCV(cv=None, error_score=nan,\n             estimator=Pipeline(memory=None,\n                                steps=[('pca',\n                                        PCA(copy=True, iterated_power='auto',\n                                            n_components=None,\n                                            random_state=None,\n                                            svd_solver='auto', tol=0.0,\n                                            whiten=False)),\n                                       ('decisiontree',\n                                        DecisionTreeClassifier(ccp_alpha=0.0,\n                                                               class_weight=None,\n                                                               criterion='gini',\n                                                               max_depth=None,\n                                                               max_features=None,\n                                                               max_leaf_nodes=None,\n                                                               min_impurity_d...\n                                                               min_samples_leaf=1,\n                                                               min_samples_split=2,\n                                                               min_weight_fraction_leaf=0.0,\n                                                               presort='deprecated',\n                                                               random_state=None,\n                                                               splitter='best'))],\n                                verbose=False),\n             iid='deprecated', n_jobs=None,\n             param_grid={'decisiontree__criterion': ['gini', 'entropy'],\n                         'decisiontree__max_depth': [4, 6, 8, 12, 16]},\n             pre_dispatch='2*n_jobs', refit=True, return_train_score=False,\n             scoring=None, verbose=0)"
     },
     "execution_count": 48,
     "metadata": {},
     "output_type": "execute_result"
    }
   ],
   "source": [
    "clf3.fit(X_train, y_train)"
   ]
  },
  {
   "cell_type": "code",
   "execution_count": 49,
   "metadata": {},
   "outputs": [
    {
     "name": "stdout",
     "output_type": "stream",
     "text": "Best Criterion: gini\nBest max_depth: 6\nDecisionTreeClassifier(ccp_alpha=0.0, class_weight=None, criterion='gini',\n                       max_depth=6, max_features=None, max_leaf_nodes=None,\n                       min_impurity_decrease=0.0, min_impurity_split=None,\n                       min_samples_leaf=1, min_samples_split=2,\n                       min_weight_fraction_leaf=0.0, presort='deprecated',\n                       random_state=None, splitter='best')\n"
    }
   ],
   "source": [
    "print('Best Criterion:', clf3.best_estimator_.get_params()['decisiontree__criterion'])\n",
    "print('Best max_depth:', clf3.best_estimator_.get_params()['decisiontree__max_depth'])\n",
    "\n",
    "print(clf3.best_estimator_.get_params()['decisiontree'])"
   ]
  },
  {
   "cell_type": "code",
   "execution_count": 50,
   "metadata": {},
   "outputs": [],
   "source": [
    "y_predict = clf3.predict(X_test)"
   ]
  },
  {
   "cell_type": "code",
   "execution_count": 51,
   "metadata": {},
   "outputs": [
    {
     "data": {
      "text/plain": "0.916430079347747"
     },
     "execution_count": 51,
     "metadata": {},
     "output_type": "execute_result"
    }
   ],
   "source": [
    "accuracy_score(y_test, y_predict)"
   ]
  },
  {
   "cell_type": "markdown",
   "metadata": {},
   "source": [
    "## XGB\n"
   ]
  },
  {
   "cell_type": "code",
   "execution_count": 39,
   "metadata": {},
   "outputs": [
    {
     "ename": "ModuleNotFoundError",
     "evalue": "No module named 'xgboost'",
     "output_type": "error",
     "traceback": [
      "\u001b[1;31m---------------------------------------------------------------------------\u001b[0m",
      "\u001b[1;31mModuleNotFoundError\u001b[0m                       Traceback (most recent call last)",
      "\u001b[1;32m<ipython-input-39-21c85f5fdf42>\u001b[0m in \u001b[0;36m<module>\u001b[1;34m\u001b[0m\n\u001b[1;32m----> 1\u001b[1;33m \u001b[1;32mfrom\u001b[0m \u001b[0mxgboost\u001b[0m \u001b[1;32mimport\u001b[0m \u001b[0mXGBClassifier\u001b[0m\u001b[1;33m\u001b[0m\u001b[1;33m\u001b[0m\u001b[0m\n\u001b[0m\u001b[0;32m      2\u001b[0m \u001b[1;32mfrom\u001b[0m \u001b[0mmatplotlib\u001b[0m \u001b[1;32mimport\u001b[0m \u001b[0mpyplot\u001b[0m\u001b[1;33m\u001b[0m\u001b[1;33m\u001b[0m\u001b[0m\n",
      "\u001b[1;31mModuleNotFoundError\u001b[0m: No module named 'xgboost'"
     ]
    }
   ],
   "source": [
    "from xgboost import XGBClassifier\n",
    "from matplotlib import pyplot"
   ]
  },
  {
   "cell_type": "code",
   "execution_count": null,
   "metadata": {},
   "outputs": [],
   "source": [
    "xgb = XGBClassifier()"
   ]
  },
  {
   "cell_type": "code",
   "execution_count": null,
   "metadata": {},
   "outputs": [],
   "source": [
    "xgb.fit(X_train,y_train)"
   ]
  },
  {
   "cell_type": "code",
   "execution_count": null,
   "metadata": {},
   "outputs": [],
   "source": [
    "y_predict = xgb.predict(X_test)\n",
    "y_predict"
   ]
  },
  {
   "cell_type": "code",
   "execution_count": null,
   "metadata": {},
   "outputs": [],
   "source": [
    "accuracy_score(y_test, y_predict)"
   ]
  },
  {
   "cell_type": "code",
   "execution_count": null,
   "metadata": {},
   "outputs": [],
   "source": [
    "# feature importance\n",
    "pyplot.bar(range(len(xgb.feature_importances_)), xgb.feature_importances_)"
   ]
  },
  {
   "cell_type": "code",
   "execution_count": null,
   "metadata": {},
   "outputs": [],
   "source": []
  },
  {
   "cell_type": "code",
   "execution_count": null,
   "metadata": {},
   "outputs": [],
   "source": []
  },
  {
   "cell_type": "code",
   "execution_count": null,
   "metadata": {},
   "outputs": [],
   "source": [
    "# select the columns that belongs to the submission set \n",
    "submission = pd.read_csv('solution_template.csv')\n",
    "training = pd.read_csv('filled_training_data.csv')"
   ]
  },
  {
   "cell_type": "code",
   "execution_count": null,
   "metadata": {},
   "outputs": [],
   "source": [
    "# create a new dataframe\n",
    "new_data = pd.DataFrame()"
   ]
  },
  {
   "cell_type": "markdown",
   "metadata": {},
   "source": [
    "# Submission Code"
   ]
  },
  {
   "cell_type": "code",
   "execution_count": 5,
   "metadata": {},
   "outputs": [],
   "source": [
    "from sklearn import preprocessing\n",
    "encoder = preprocessing.LabelEncoder()"
   ]
  },
  {
   "cell_type": "code",
   "execution_count": 14,
   "metadata": {},
   "outputs": [
    {
     "data": {
      "text/plain": "0"
     },
     "execution_count": 14,
     "metadata": {},
     "output_type": "execute_result"
    }
   ],
   "source": [
    "submission = pd.read_csv('filled_testing_data.csv')\n",
    "#submission = pd.get_dummies(submission)\n",
    "submission = submission.drop(columns = ['Unnamed: 0'])\n",
    "submission.fillna(data2['d1_spo2_max'].mean(), inplace = True)\n",
    "submission.isnull().sum().sum()\n",
    "# split data\n",
    "#X_dot = submission.drop('encounter_id', axis = 1)\n",
    "#y_predict_dot = clf3.predict(X_dot)"
   ]
  },
  {
   "cell_type": "code",
   "execution_count": 57,
   "metadata": {},
   "outputs": [
    {
     "data": {
      "text/plain": "(39308, 254)"
     },
     "execution_count": 57,
     "metadata": {},
     "output_type": "execute_result"
    }
   ],
   "source": [
    "X_dot.shape"
   ]
  },
  {
   "cell_type": "code",
   "execution_count": 83,
   "metadata": {},
   "outputs": [],
   "source": [
    "y_predict_dot = clf3.predict_proba(X_dot)"
   ]
  },
  {
   "cell_type": "code",
   "execution_count": 82,
   "metadata": {},
   "outputs": [
    {
     "data": {
      "text/plain": "array([-1.33030009, -1.33030009, -1.33030009, ...,        -inf,\n       -1.94591015, -1.09861229])"
     },
     "execution_count": 82,
     "metadata": {},
     "output_type": "execute_result"
    }
   ],
   "source": [
    "y_predict_dot[ : , 1]"
   ]
  },
  {
   "cell_type": "code",
   "execution_count": 79,
   "metadata": {},
   "outputs": [],
   "source": [
    "submission['hospital_death'] = y_predict_dot[ : , 0]\n",
    "submission[['encounter_id','hospital_death']].to_csv('result.csv',index = False)"
   ]
  },
  {
   "cell_type": "code",
   "execution_count": 80,
   "metadata": {},
   "outputs": [
    {
     "data": {
      "text/html": "<div>\n<style scoped>\n    .dataframe tbody tr th:only-of-type {\n        vertical-align: middle;\n    }\n\n    .dataframe tbody tr th {\n        vertical-align: top;\n    }\n\n    .dataframe thead th {\n        text-align: right;\n    }\n</style>\n<table border=\"1\" class=\"dataframe\">\n  <thead>\n    <tr style=\"text-align: right;\">\n      <th></th>\n      <th>encounter_id</th>\n      <th>hospital_death</th>\n    </tr>\n  </thead>\n  <tbody>\n    <tr>\n      <th>0</th>\n      <td>2</td>\n      <td>0.735602</td>\n    </tr>\n    <tr>\n      <th>1</th>\n      <td>5</td>\n      <td>0.735602</td>\n    </tr>\n    <tr>\n      <th>2</th>\n      <td>7</td>\n      <td>0.735602</td>\n    </tr>\n    <tr>\n      <th>3</th>\n      <td>8</td>\n      <td>0.790722</td>\n    </tr>\n    <tr>\n      <th>4</th>\n      <td>10</td>\n      <td>0.861934</td>\n    </tr>\n    <tr>\n      <th>...</th>\n      <td>...</td>\n      <td>...</td>\n    </tr>\n    <tr>\n      <th>39303</th>\n      <td>131035</td>\n      <td>1.000000</td>\n    </tr>\n    <tr>\n      <th>39304</th>\n      <td>131037</td>\n      <td>1.000000</td>\n    </tr>\n    <tr>\n      <th>39305</th>\n      <td>131039</td>\n      <td>1.000000</td>\n    </tr>\n    <tr>\n      <th>39306</th>\n      <td>131041</td>\n      <td>0.857143</td>\n    </tr>\n    <tr>\n      <th>39307</th>\n      <td>131050</td>\n      <td>0.666667</td>\n    </tr>\n  </tbody>\n</table>\n<p>39308 rows × 2 columns</p>\n</div>",
      "text/plain": "       encounter_id  hospital_death\n0                 2        0.735602\n1                 5        0.735602\n2                 7        0.735602\n3                 8        0.790722\n4                10        0.861934\n...             ...             ...\n39303        131035        1.000000\n39304        131037        1.000000\n39305        131039        1.000000\n39306        131041        0.857143\n39307        131050        0.666667\n\n[39308 rows x 2 columns]"
     },
     "execution_count": 80,
     "metadata": {},
     "output_type": "execute_result"
    }
   ],
   "source": [
    "result = pd.read_csv('result.csv')\n",
    "result"
   ]
  },
  {
   "cell_type": "code",
   "execution_count": null,
   "metadata": {},
   "outputs": [],
   "source": []
  }
 ],
 "metadata": {
  "kernelspec": {
   "display_name": "Python 3",
   "language": "python",
   "name": "python3"
  },
  "language_info": {
   "codemirror_mode": {
    "name": "ipython",
    "version": 3
   },
   "file_extension": ".py",
   "mimetype": "text/x-python",
   "name": "python",
   "nbconvert_exporter": "python",
   "pygments_lexer": "ipython3",
   "version": "3.7.6-final"
  }
 },
 "nbformat": 4,
 "nbformat_minor": 2
}